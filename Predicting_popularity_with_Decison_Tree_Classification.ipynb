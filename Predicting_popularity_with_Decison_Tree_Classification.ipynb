{
 "cells": [
  {
   "cell_type": "markdown",
   "metadata": {
    "colab_type": "text",
    "id": "LNeK6ftQc1qq"
   },
   "source": [
    "### Libraries"
   ]
  },
  {
   "cell_type": "code",
   "execution_count": 231,
   "metadata": {
    "colab": {},
    "colab_type": "code",
    "id": "JjE1ypoyc1qq"
   },
   "outputs": [],
   "source": [
    "import numpy as np\n",
    "import pandas as pd\n",
    "import matplotlib.pyplot as plt\n",
    "import seaborn as sns\n",
    "from sklearn.model_selection import train_test_split\n",
    "from sklearn.compose import ColumnTransformer\n",
    "from sklearn.tree import DecisionTreeClassifier \n",
    "from sklearn.metrics import accuracy_score\n",
    "\n",
    "from sklearn.preprocessing import OneHotEncoder\n",
    "\n",
    "\n",
    "from warnings import filterwarnings\n",
    "\n",
    "pd.set_option('display.float_format', lambda num:'%1.3f'%num)\n",
    "pd.set_option('display.max_columns', 99)\n",
    "filterwarnings('ignore')"
   ]
  },
  {
   "cell_type": "markdown",
   "metadata": {
    "colab_type": "text",
    "id": "3XiMx8grc1qs"
   },
   "source": [
    "# Data Description\n",
    "\n",
    "Feature | Description\n",
    ":---|:---\n",
    "app_id |The unique application id.\n",
    "category | The category under which app is categorized on the store.\n",
    "reviews| The number of reviews received on the store.\n",
    "size| Size of the app available for download (in KB/MB)\n",
    "installs| The number of people who had installed this app atleast once.\n",
    "price| The price of the app (in US $)\n",
    "suitable_for| Rating given to app based on the usage and content.\n",
    "last_update| When was the app updated last time by the developers.\n",
    "latest_ver| The latest version of the app available for download.\n",
    "popularity| User popularity (High/Low)"
   ]
  },
  {
   "cell_type": "markdown",
   "metadata": {
    "colab_type": "text",
    "id": "dd-AUgk5c1qz"
   },
   "source": [
    "# Data Wrangling & Visualization \n",
    "\n",
    "\n"
   ]
  },
  {
   "cell_type": "code",
   "execution_count": 232,
   "metadata": {
    "colab": {},
    "colab_type": "code",
    "id": "bPWIkZSyasKH"
   },
   "outputs": [],
   "source": [
    "train = pd.read_csv(\"train.csv\")"
   ]
  },
  {
   "cell_type": "code",
   "execution_count": 233,
   "metadata": {
    "colab": {},
    "colab_type": "code",
    "id": "_4UrCtbSasKJ"
   },
   "outputs": [
    {
     "data": {
      "text/html": [
       "<div>\n",
       "<style scoped>\n",
       "    .dataframe tbody tr th:only-of-type {\n",
       "        vertical-align: middle;\n",
       "    }\n",
       "\n",
       "    .dataframe tbody tr th {\n",
       "        vertical-align: top;\n",
       "    }\n",
       "\n",
       "    .dataframe thead th {\n",
       "        text-align: right;\n",
       "    }\n",
       "</style>\n",
       "<table border=\"1\" class=\"dataframe\">\n",
       "  <thead>\n",
       "    <tr style=\"text-align: right;\">\n",
       "      <th></th>\n",
       "      <th>app_id</th>\n",
       "      <th>category</th>\n",
       "      <th>reviews</th>\n",
       "      <th>size</th>\n",
       "      <th>installs</th>\n",
       "      <th>price</th>\n",
       "      <th>suitable_for</th>\n",
       "      <th>last_update</th>\n",
       "      <th>latest_ver</th>\n",
       "      <th>popularity</th>\n",
       "    </tr>\n",
       "  </thead>\n",
       "  <tbody>\n",
       "    <tr>\n",
       "      <th>0</th>\n",
       "      <td>330090</td>\n",
       "      <td>PERSONALIZATION</td>\n",
       "      <td>4</td>\n",
       "      <td>511k</td>\n",
       "      <td>50+</td>\n",
       "      <td>0</td>\n",
       "      <td>Everyone</td>\n",
       "      <td>December 31, 2016</td>\n",
       "      <td>1.4</td>\n",
       "      <td>High</td>\n",
       "    </tr>\n",
       "    <tr>\n",
       "      <th>1</th>\n",
       "      <td>226147</td>\n",
       "      <td>GAME</td>\n",
       "      <td>568391</td>\n",
       "      <td>5.2M</td>\n",
       "      <td>5,000,000+</td>\n",
       "      <td>0</td>\n",
       "      <td>Teen</td>\n",
       "      <td>July 1, 2014</td>\n",
       "      <td>4.3.1</td>\n",
       "      <td>High</td>\n",
       "    </tr>\n",
       "    <tr>\n",
       "      <th>2</th>\n",
       "      <td>107000</td>\n",
       "      <td>FAMILY</td>\n",
       "      <td>144</td>\n",
       "      <td>70M</td>\n",
       "      <td>1,000+</td>\n",
       "      <td>$2.99</td>\n",
       "      <td>Teen</td>\n",
       "      <td>January 26, 2018</td>\n",
       "      <td>1.0.0</td>\n",
       "      <td>High</td>\n",
       "    </tr>\n",
       "    <tr>\n",
       "      <th>3</th>\n",
       "      <td>217582</td>\n",
       "      <td>FAMILY</td>\n",
       "      <td>1499466</td>\n",
       "      <td>96M</td>\n",
       "      <td>10,000,000+</td>\n",
       "      <td>0</td>\n",
       "      <td>Teen</td>\n",
       "      <td>July 24, 2018</td>\n",
       "      <td>1.25.0</td>\n",
       "      <td>High</td>\n",
       "    </tr>\n",
       "    <tr>\n",
       "      <th>4</th>\n",
       "      <td>370113</td>\n",
       "      <td>DATING</td>\n",
       "      <td>84</td>\n",
       "      <td>4.5M</td>\n",
       "      <td>1,000+</td>\n",
       "      <td>0</td>\n",
       "      <td>Mature 17+</td>\n",
       "      <td>July 6, 2018</td>\n",
       "      <td>8.2</td>\n",
       "      <td>High</td>\n",
       "    </tr>\n",
       "  </tbody>\n",
       "</table>\n",
       "</div>"
      ],
      "text/plain": [
       "   app_id         category  reviews  size     installs  price suitable_for  \\\n",
       "0  330090  PERSONALIZATION        4  511k          50+      0     Everyone   \n",
       "1  226147             GAME   568391  5.2M   5,000,000+      0         Teen   \n",
       "2  107000           FAMILY      144   70M       1,000+  $2.99         Teen   \n",
       "3  217582           FAMILY  1499466   96M  10,000,000+      0         Teen   \n",
       "4  370113           DATING       84  4.5M       1,000+      0   Mature 17+   \n",
       "\n",
       "         last_update latest_ver popularity  \n",
       "0  December 31, 2016        1.4       High  \n",
       "1       July 1, 2014      4.3.1       High  \n",
       "2   January 26, 2018      1.0.0       High  \n",
       "3      July 24, 2018     1.25.0       High  \n",
       "4       July 6, 2018        8.2       High  "
      ]
     },
     "execution_count": 233,
     "metadata": {},
     "output_type": "execute_result"
    }
   ],
   "source": [
    "train.head()"
   ]
  },
  {
   "cell_type": "code",
   "execution_count": 234,
   "metadata": {
    "colab": {},
    "colab_type": "code",
    "id": "W4tSmPPEasKK"
   },
   "outputs": [
    {
     "data": {
      "text/plain": [
       "Index(['app_id', 'category', 'reviews', 'size', 'installs', 'price',\n",
       "       'suitable_for', 'last_update', 'latest_ver', 'popularity'],\n",
       "      dtype='object')"
      ]
     },
     "execution_count": 234,
     "metadata": {},
     "output_type": "execute_result"
    }
   ],
   "source": [
    "#Explore columns\n",
    "train.columns"
   ]
  },
  {
   "cell_type": "code",
   "execution_count": 235,
   "metadata": {
    "colab": {},
    "colab_type": "code",
    "id": "dNTDbVpS3PNV"
   },
   "outputs": [
    {
     "data": {
      "text/html": [
       "<div>\n",
       "<style scoped>\n",
       "    .dataframe tbody tr th:only-of-type {\n",
       "        vertical-align: middle;\n",
       "    }\n",
       "\n",
       "    .dataframe tbody tr th {\n",
       "        vertical-align: top;\n",
       "    }\n",
       "\n",
       "    .dataframe thead th {\n",
       "        text-align: right;\n",
       "    }\n",
       "</style>\n",
       "<table border=\"1\" class=\"dataframe\">\n",
       "  <thead>\n",
       "    <tr style=\"text-align: right;\">\n",
       "      <th></th>\n",
       "      <th>app_id</th>\n",
       "      <th>reviews</th>\n",
       "    </tr>\n",
       "  </thead>\n",
       "  <tbody>\n",
       "    <tr>\n",
       "      <th>count</th>\n",
       "      <td>1975.000</td>\n",
       "      <td>1975.000</td>\n",
       "    </tr>\n",
       "    <tr>\n",
       "      <th>mean</th>\n",
       "      <td>490685.787</td>\n",
       "      <td>198816.163</td>\n",
       "    </tr>\n",
       "    <tr>\n",
       "      <th>std</th>\n",
       "      <td>288098.937</td>\n",
       "      <td>1494090.662</td>\n",
       "    </tr>\n",
       "    <tr>\n",
       "      <th>min</th>\n",
       "      <td>1160.000</td>\n",
       "      <td>1.000</td>\n",
       "    </tr>\n",
       "    <tr>\n",
       "      <th>25%</th>\n",
       "      <td>239249.500</td>\n",
       "      <td>33.000</td>\n",
       "    </tr>\n",
       "    <tr>\n",
       "      <th>50%</th>\n",
       "      <td>481867.000</td>\n",
       "      <td>516.000</td>\n",
       "    </tr>\n",
       "    <tr>\n",
       "      <th>75%</th>\n",
       "      <td>737373.500</td>\n",
       "      <td>19122.000</td>\n",
       "    </tr>\n",
       "    <tr>\n",
       "      <th>max</th>\n",
       "      <td>999218.000</td>\n",
       "      <td>44891723.000</td>\n",
       "    </tr>\n",
       "  </tbody>\n",
       "</table>\n",
       "</div>"
      ],
      "text/plain": [
       "          app_id      reviews\n",
       "count   1975.000     1975.000\n",
       "mean  490685.787   198816.163\n",
       "std   288098.937  1494090.662\n",
       "min     1160.000        1.000\n",
       "25%   239249.500       33.000\n",
       "50%   481867.000      516.000\n",
       "75%   737373.500    19122.000\n",
       "max   999218.000 44891723.000"
      ]
     },
     "execution_count": 235,
     "metadata": {},
     "output_type": "execute_result"
    }
   ],
   "source": [
    "#Description\n",
    "train.describe()"
   ]
  },
  {
   "cell_type": "markdown",
   "metadata": {},
   "source": [
    "# Data pre-processing"
   ]
  },
  {
   "cell_type": "code",
   "execution_count": 236,
   "metadata": {},
   "outputs": [],
   "source": [
    "train['size'] = train['size'].replace({'k': '*1e3', 'M': '*1e6'}, regex=True).map(pd.eval).astype(int)"
   ]
  },
  {
   "cell_type": "code",
   "execution_count": 237,
   "metadata": {},
   "outputs": [],
   "source": [
    "train['installs']=train['installs'].str.replace(',','')"
   ]
  },
  {
   "cell_type": "code",
   "execution_count": 238,
   "metadata": {},
   "outputs": [],
   "source": [
    "train['installs']=train['installs'].str.replace('+','')"
   ]
  },
  {
   "cell_type": "code",
   "execution_count": 239,
   "metadata": {},
   "outputs": [],
   "source": [
    "train[\"installs\"] = pd.to_numeric(train[\"installs\"])"
   ]
  },
  {
   "cell_type": "code",
   "execution_count": 240,
   "metadata": {},
   "outputs": [],
   "source": [
    "train['price']=train['price'].str.replace('$','')"
   ]
  },
  {
   "cell_type": "code",
   "execution_count": 241,
   "metadata": {},
   "outputs": [],
   "source": [
    "train[\"price\"] = pd.to_numeric(train[\"price\"])"
   ]
  },
  {
   "cell_type": "code",
   "execution_count": 242,
   "metadata": {},
   "outputs": [
    {
     "data": {
      "text/plain": [
       "0      0.000\n",
       "1      0.000\n",
       "2      2.990\n",
       "3      0.000\n",
       "4      0.000\n",
       "        ... \n",
       "1970   0.000\n",
       "1971   0.000\n",
       "1972   1.990\n",
       "1973   0.000\n",
       "1974   0.000\n",
       "Name: price, Length: 1975, dtype: float64"
      ]
     },
     "execution_count": 242,
     "metadata": {},
     "output_type": "execute_result"
    }
   ],
   "source": [
    "train['price']"
   ]
  },
  {
   "cell_type": "code",
   "execution_count": 243,
   "metadata": {},
   "outputs": [
    {
     "data": {
      "text/html": [
       "<div>\n",
       "<style scoped>\n",
       "    .dataframe tbody tr th:only-of-type {\n",
       "        vertical-align: middle;\n",
       "    }\n",
       "\n",
       "    .dataframe tbody tr th {\n",
       "        vertical-align: top;\n",
       "    }\n",
       "\n",
       "    .dataframe thead th {\n",
       "        text-align: right;\n",
       "    }\n",
       "</style>\n",
       "<table border=\"1\" class=\"dataframe\">\n",
       "  <thead>\n",
       "    <tr style=\"text-align: right;\">\n",
       "      <th></th>\n",
       "      <th>app_id</th>\n",
       "      <th>category</th>\n",
       "      <th>reviews</th>\n",
       "      <th>size</th>\n",
       "      <th>installs</th>\n",
       "      <th>price</th>\n",
       "      <th>suitable_for</th>\n",
       "      <th>last_update</th>\n",
       "      <th>latest_ver</th>\n",
       "      <th>popularity</th>\n",
       "    </tr>\n",
       "  </thead>\n",
       "  <tbody>\n",
       "    <tr>\n",
       "      <th>0</th>\n",
       "      <td>330090</td>\n",
       "      <td>PERSONALIZATION</td>\n",
       "      <td>4</td>\n",
       "      <td>511000</td>\n",
       "      <td>50</td>\n",
       "      <td>0.000</td>\n",
       "      <td>Everyone</td>\n",
       "      <td>December 31, 2016</td>\n",
       "      <td>1.4</td>\n",
       "      <td>High</td>\n",
       "    </tr>\n",
       "    <tr>\n",
       "      <th>1</th>\n",
       "      <td>226147</td>\n",
       "      <td>GAME</td>\n",
       "      <td>568391</td>\n",
       "      <td>5200000</td>\n",
       "      <td>5000000</td>\n",
       "      <td>0.000</td>\n",
       "      <td>Teen</td>\n",
       "      <td>July 1, 2014</td>\n",
       "      <td>4.3.1</td>\n",
       "      <td>High</td>\n",
       "    </tr>\n",
       "    <tr>\n",
       "      <th>2</th>\n",
       "      <td>107000</td>\n",
       "      <td>FAMILY</td>\n",
       "      <td>144</td>\n",
       "      <td>70000000</td>\n",
       "      <td>1000</td>\n",
       "      <td>2.990</td>\n",
       "      <td>Teen</td>\n",
       "      <td>January 26, 2018</td>\n",
       "      <td>1.0.0</td>\n",
       "      <td>High</td>\n",
       "    </tr>\n",
       "    <tr>\n",
       "      <th>3</th>\n",
       "      <td>217582</td>\n",
       "      <td>FAMILY</td>\n",
       "      <td>1499466</td>\n",
       "      <td>96000000</td>\n",
       "      <td>10000000</td>\n",
       "      <td>0.000</td>\n",
       "      <td>Teen</td>\n",
       "      <td>July 24, 2018</td>\n",
       "      <td>1.25.0</td>\n",
       "      <td>High</td>\n",
       "    </tr>\n",
       "    <tr>\n",
       "      <th>4</th>\n",
       "      <td>370113</td>\n",
       "      <td>DATING</td>\n",
       "      <td>84</td>\n",
       "      <td>4500000</td>\n",
       "      <td>1000</td>\n",
       "      <td>0.000</td>\n",
       "      <td>Mature 17+</td>\n",
       "      <td>July 6, 2018</td>\n",
       "      <td>8.2</td>\n",
       "      <td>High</td>\n",
       "    </tr>\n",
       "    <tr>\n",
       "      <th>...</th>\n",
       "      <td>...</td>\n",
       "      <td>...</td>\n",
       "      <td>...</td>\n",
       "      <td>...</td>\n",
       "      <td>...</td>\n",
       "      <td>...</td>\n",
       "      <td>...</td>\n",
       "      <td>...</td>\n",
       "      <td>...</td>\n",
       "      <td>...</td>\n",
       "    </tr>\n",
       "    <tr>\n",
       "      <th>1970</th>\n",
       "      <td>823213</td>\n",
       "      <td>GAME</td>\n",
       "      <td>3883589</td>\n",
       "      <td>57000000</td>\n",
       "      <td>100000000</td>\n",
       "      <td>0.000</td>\n",
       "      <td>Everyone</td>\n",
       "      <td>July 26, 2018</td>\n",
       "      <td>2.21.1</td>\n",
       "      <td>High</td>\n",
       "    </tr>\n",
       "    <tr>\n",
       "      <th>1971</th>\n",
       "      <td>911217</td>\n",
       "      <td>FAMILY</td>\n",
       "      <td>5898</td>\n",
       "      <td>50000000</td>\n",
       "      <td>100000</td>\n",
       "      <td>0.000</td>\n",
       "      <td>Everyone</td>\n",
       "      <td>August 1, 2017</td>\n",
       "      <td>3.3.8.03082017</td>\n",
       "      <td>High</td>\n",
       "    </tr>\n",
       "    <tr>\n",
       "      <th>1972</th>\n",
       "      <td>369343</td>\n",
       "      <td>FAMILY</td>\n",
       "      <td>16</td>\n",
       "      <td>8900000</td>\n",
       "      <td>500</td>\n",
       "      <td>1.990</td>\n",
       "      <td>Everyone</td>\n",
       "      <td>May 9, 2017</td>\n",
       "      <td>1.0</td>\n",
       "      <td>High</td>\n",
       "    </tr>\n",
       "    <tr>\n",
       "      <th>1973</th>\n",
       "      <td>468527</td>\n",
       "      <td>HEALTH_AND_FITNESS</td>\n",
       "      <td>9612</td>\n",
       "      <td>3500000</td>\n",
       "      <td>100000</td>\n",
       "      <td>0.000</td>\n",
       "      <td>Everyone</td>\n",
       "      <td>May 18, 2018</td>\n",
       "      <td>1.8.12</td>\n",
       "      <td>High</td>\n",
       "    </tr>\n",
       "    <tr>\n",
       "      <th>1974</th>\n",
       "      <td>832811</td>\n",
       "      <td>SPORTS</td>\n",
       "      <td>1211</td>\n",
       "      <td>15000000</td>\n",
       "      <td>10000</td>\n",
       "      <td>0.000</td>\n",
       "      <td>Everyone</td>\n",
       "      <td>January 22, 2018</td>\n",
       "      <td>1.0.1</td>\n",
       "      <td>High</td>\n",
       "    </tr>\n",
       "  </tbody>\n",
       "</table>\n",
       "<p>1975 rows × 10 columns</p>\n",
       "</div>"
      ],
      "text/plain": [
       "      app_id            category  reviews      size   installs  price  \\\n",
       "0     330090     PERSONALIZATION        4    511000         50  0.000   \n",
       "1     226147                GAME   568391   5200000    5000000  0.000   \n",
       "2     107000              FAMILY      144  70000000       1000  2.990   \n",
       "3     217582              FAMILY  1499466  96000000   10000000  0.000   \n",
       "4     370113              DATING       84   4500000       1000  0.000   \n",
       "...      ...                 ...      ...       ...        ...    ...   \n",
       "1970  823213                GAME  3883589  57000000  100000000  0.000   \n",
       "1971  911217              FAMILY     5898  50000000     100000  0.000   \n",
       "1972  369343              FAMILY       16   8900000        500  1.990   \n",
       "1973  468527  HEALTH_AND_FITNESS     9612   3500000     100000  0.000   \n",
       "1974  832811              SPORTS     1211  15000000      10000  0.000   \n",
       "\n",
       "     suitable_for        last_update      latest_ver popularity  \n",
       "0        Everyone  December 31, 2016             1.4       High  \n",
       "1            Teen       July 1, 2014           4.3.1       High  \n",
       "2            Teen   January 26, 2018           1.0.0       High  \n",
       "3            Teen      July 24, 2018          1.25.0       High  \n",
       "4      Mature 17+       July 6, 2018             8.2       High  \n",
       "...           ...                ...             ...        ...  \n",
       "1970     Everyone      July 26, 2018          2.21.1       High  \n",
       "1971     Everyone     August 1, 2017  3.3.8.03082017       High  \n",
       "1972     Everyone        May 9, 2017             1.0       High  \n",
       "1973     Everyone       May 18, 2018          1.8.12       High  \n",
       "1974     Everyone   January 22, 2018           1.0.1       High  \n",
       "\n",
       "[1975 rows x 10 columns]"
      ]
     },
     "execution_count": 243,
     "metadata": {},
     "output_type": "execute_result"
    }
   ],
   "source": [
    "train"
   ]
  },
  {
   "cell_type": "code",
   "execution_count": 244,
   "metadata": {
    "colab": {},
    "colab_type": "code",
    "id": "RJPiIhd-asKO"
   },
   "outputs": [],
   "source": [
    "X = train.drop(['category','app_id','popularity', 'latest_ver', 'last_update'], axis=1)\n",
    "y = train['popularity']"
   ]
  },
  {
   "cell_type": "code",
   "execution_count": 245,
   "metadata": {
    "colab": {},
    "colab_type": "code",
    "id": "rKQcXxm8c1rW"
   },
   "outputs": [
    {
     "data": {
      "text/html": [
       "<div>\n",
       "<style scoped>\n",
       "    .dataframe tbody tr th:only-of-type {\n",
       "        vertical-align: middle;\n",
       "    }\n",
       "\n",
       "    .dataframe tbody tr th {\n",
       "        vertical-align: top;\n",
       "    }\n",
       "\n",
       "    .dataframe thead th {\n",
       "        text-align: right;\n",
       "    }\n",
       "</style>\n",
       "<table border=\"1\" class=\"dataframe\">\n",
       "  <thead>\n",
       "    <tr style=\"text-align: right;\">\n",
       "      <th></th>\n",
       "      <th>reviews</th>\n",
       "      <th>size</th>\n",
       "      <th>installs</th>\n",
       "      <th>price</th>\n",
       "      <th>suitable_for</th>\n",
       "    </tr>\n",
       "  </thead>\n",
       "  <tbody>\n",
       "    <tr>\n",
       "      <th>0</th>\n",
       "      <td>4</td>\n",
       "      <td>511000</td>\n",
       "      <td>50</td>\n",
       "      <td>0.000</td>\n",
       "      <td>Everyone</td>\n",
       "    </tr>\n",
       "    <tr>\n",
       "      <th>1</th>\n",
       "      <td>568391</td>\n",
       "      <td>5200000</td>\n",
       "      <td>5000000</td>\n",
       "      <td>0.000</td>\n",
       "      <td>Teen</td>\n",
       "    </tr>\n",
       "    <tr>\n",
       "      <th>2</th>\n",
       "      <td>144</td>\n",
       "      <td>70000000</td>\n",
       "      <td>1000</td>\n",
       "      <td>2.990</td>\n",
       "      <td>Teen</td>\n",
       "    </tr>\n",
       "    <tr>\n",
       "      <th>3</th>\n",
       "      <td>1499466</td>\n",
       "      <td>96000000</td>\n",
       "      <td>10000000</td>\n",
       "      <td>0.000</td>\n",
       "      <td>Teen</td>\n",
       "    </tr>\n",
       "    <tr>\n",
       "      <th>4</th>\n",
       "      <td>84</td>\n",
       "      <td>4500000</td>\n",
       "      <td>1000</td>\n",
       "      <td>0.000</td>\n",
       "      <td>Mature 17+</td>\n",
       "    </tr>\n",
       "    <tr>\n",
       "      <th>...</th>\n",
       "      <td>...</td>\n",
       "      <td>...</td>\n",
       "      <td>...</td>\n",
       "      <td>...</td>\n",
       "      <td>...</td>\n",
       "    </tr>\n",
       "    <tr>\n",
       "      <th>1970</th>\n",
       "      <td>3883589</td>\n",
       "      <td>57000000</td>\n",
       "      <td>100000000</td>\n",
       "      <td>0.000</td>\n",
       "      <td>Everyone</td>\n",
       "    </tr>\n",
       "    <tr>\n",
       "      <th>1971</th>\n",
       "      <td>5898</td>\n",
       "      <td>50000000</td>\n",
       "      <td>100000</td>\n",
       "      <td>0.000</td>\n",
       "      <td>Everyone</td>\n",
       "    </tr>\n",
       "    <tr>\n",
       "      <th>1972</th>\n",
       "      <td>16</td>\n",
       "      <td>8900000</td>\n",
       "      <td>500</td>\n",
       "      <td>1.990</td>\n",
       "      <td>Everyone</td>\n",
       "    </tr>\n",
       "    <tr>\n",
       "      <th>1973</th>\n",
       "      <td>9612</td>\n",
       "      <td>3500000</td>\n",
       "      <td>100000</td>\n",
       "      <td>0.000</td>\n",
       "      <td>Everyone</td>\n",
       "    </tr>\n",
       "    <tr>\n",
       "      <th>1974</th>\n",
       "      <td>1211</td>\n",
       "      <td>15000000</td>\n",
       "      <td>10000</td>\n",
       "      <td>0.000</td>\n",
       "      <td>Everyone</td>\n",
       "    </tr>\n",
       "  </tbody>\n",
       "</table>\n",
       "<p>1975 rows × 5 columns</p>\n",
       "</div>"
      ],
      "text/plain": [
       "      reviews      size   installs  price suitable_for\n",
       "0           4    511000         50  0.000     Everyone\n",
       "1      568391   5200000    5000000  0.000         Teen\n",
       "2         144  70000000       1000  2.990         Teen\n",
       "3     1499466  96000000   10000000  0.000         Teen\n",
       "4          84   4500000       1000  0.000   Mature 17+\n",
       "...       ...       ...        ...    ...          ...\n",
       "1970  3883589  57000000  100000000  0.000     Everyone\n",
       "1971     5898  50000000     100000  0.000     Everyone\n",
       "1972       16   8900000        500  1.990     Everyone\n",
       "1973     9612   3500000     100000  0.000     Everyone\n",
       "1974     1211  15000000      10000  0.000     Everyone\n",
       "\n",
       "[1975 rows x 5 columns]"
      ]
     },
     "execution_count": 245,
     "metadata": {},
     "output_type": "execute_result"
    }
   ],
   "source": [
    "X"
   ]
  },
  {
   "cell_type": "code",
   "execution_count": 246,
   "metadata": {},
   "outputs": [
    {
     "data": {
      "text/plain": [
       "0       High\n",
       "1       High\n",
       "2       High\n",
       "3       High\n",
       "4       High\n",
       "        ... \n",
       "1970    High\n",
       "1971    High\n",
       "1972    High\n",
       "1973    High\n",
       "1974    High\n",
       "Name: popularity, Length: 1975, dtype: object"
      ]
     },
     "execution_count": 246,
     "metadata": {},
     "output_type": "execute_result"
    }
   ],
   "source": [
    "y"
   ]
  },
  {
   "cell_type": "markdown",
   "metadata": {},
   "source": [
    "# Splitting Dataset into Trainng and Validation dataset"
   ]
  },
  {
   "cell_type": "code",
   "execution_count": 247,
   "metadata": {
    "colab": {},
    "colab_type": "code",
    "id": "FOKEc8u3asKr"
   },
   "outputs": [],
   "source": [
    "X_train, X_test, y_train, y_test = train_test_split(X, y, test_size = 0.3,random_state=42)"
   ]
  },
  {
   "cell_type": "code",
   "execution_count": 248,
   "metadata": {
    "colab": {},
    "colab_type": "code",
    "id": "kkZwMRwvasKs"
   },
   "outputs": [
    {
     "data": {
      "text/html": [
       "<div>\n",
       "<style scoped>\n",
       "    .dataframe tbody tr th:only-of-type {\n",
       "        vertical-align: middle;\n",
       "    }\n",
       "\n",
       "    .dataframe tbody tr th {\n",
       "        vertical-align: top;\n",
       "    }\n",
       "\n",
       "    .dataframe thead th {\n",
       "        text-align: right;\n",
       "    }\n",
       "</style>\n",
       "<table border=\"1\" class=\"dataframe\">\n",
       "  <thead>\n",
       "    <tr style=\"text-align: right;\">\n",
       "      <th></th>\n",
       "      <th>reviews</th>\n",
       "      <th>size</th>\n",
       "      <th>installs</th>\n",
       "      <th>price</th>\n",
       "      <th>suitable_for</th>\n",
       "    </tr>\n",
       "  </thead>\n",
       "  <tbody>\n",
       "    <tr>\n",
       "      <th>1249</th>\n",
       "      <td>11677</td>\n",
       "      <td>19000000</td>\n",
       "      <td>1000000</td>\n",
       "      <td>0.000</td>\n",
       "      <td>Everyone</td>\n",
       "    </tr>\n",
       "    <tr>\n",
       "      <th>1556</th>\n",
       "      <td>3048</td>\n",
       "      <td>24000000</td>\n",
       "      <td>500000</td>\n",
       "      <td>0.000</td>\n",
       "      <td>Teen</td>\n",
       "    </tr>\n",
       "    <tr>\n",
       "      <th>1617</th>\n",
       "      <td>25</td>\n",
       "      <td>46000000</td>\n",
       "      <td>5000</td>\n",
       "      <td>0.000</td>\n",
       "      <td>Everyone</td>\n",
       "    </tr>\n",
       "    <tr>\n",
       "      <th>1567</th>\n",
       "      <td>3</td>\n",
       "      <td>4800000</td>\n",
       "      <td>100</td>\n",
       "      <td>0.000</td>\n",
       "      <td>Everyone</td>\n",
       "    </tr>\n",
       "    <tr>\n",
       "      <th>1027</th>\n",
       "      <td>705</td>\n",
       "      <td>1800000</td>\n",
       "      <td>10000</td>\n",
       "      <td>0.000</td>\n",
       "      <td>Everyone</td>\n",
       "    </tr>\n",
       "    <tr>\n",
       "      <th>...</th>\n",
       "      <td>...</td>\n",
       "      <td>...</td>\n",
       "      <td>...</td>\n",
       "      <td>...</td>\n",
       "      <td>...</td>\n",
       "    </tr>\n",
       "    <tr>\n",
       "      <th>1130</th>\n",
       "      <td>1680</td>\n",
       "      <td>4000000</td>\n",
       "      <td>100000</td>\n",
       "      <td>0.000</td>\n",
       "      <td>Everyone</td>\n",
       "    </tr>\n",
       "    <tr>\n",
       "      <th>1294</th>\n",
       "      <td>663</td>\n",
       "      <td>25000000</td>\n",
       "      <td>50000</td>\n",
       "      <td>0.000</td>\n",
       "      <td>Everyone</td>\n",
       "    </tr>\n",
       "    <tr>\n",
       "      <th>860</th>\n",
       "      <td>5509</td>\n",
       "      <td>3200000</td>\n",
       "      <td>100000</td>\n",
       "      <td>0.000</td>\n",
       "      <td>Everyone</td>\n",
       "    </tr>\n",
       "    <tr>\n",
       "      <th>1459</th>\n",
       "      <td>349</td>\n",
       "      <td>11000000</td>\n",
       "      <td>50000</td>\n",
       "      <td>0.000</td>\n",
       "      <td>Everyone</td>\n",
       "    </tr>\n",
       "    <tr>\n",
       "      <th>1126</th>\n",
       "      <td>14989</td>\n",
       "      <td>78000000</td>\n",
       "      <td>500000</td>\n",
       "      <td>0.000</td>\n",
       "      <td>Teen</td>\n",
       "    </tr>\n",
       "  </tbody>\n",
       "</table>\n",
       "<p>1382 rows × 5 columns</p>\n",
       "</div>"
      ],
      "text/plain": [
       "      reviews      size  installs  price suitable_for\n",
       "1249    11677  19000000   1000000  0.000     Everyone\n",
       "1556     3048  24000000    500000  0.000         Teen\n",
       "1617       25  46000000      5000  0.000     Everyone\n",
       "1567        3   4800000       100  0.000     Everyone\n",
       "1027      705   1800000     10000  0.000     Everyone\n",
       "...       ...       ...       ...    ...          ...\n",
       "1130     1680   4000000    100000  0.000     Everyone\n",
       "1294      663  25000000     50000  0.000     Everyone\n",
       "860      5509   3200000    100000  0.000     Everyone\n",
       "1459      349  11000000     50000  0.000     Everyone\n",
       "1126    14989  78000000    500000  0.000         Teen\n",
       "\n",
       "[1382 rows x 5 columns]"
      ]
     },
     "execution_count": 248,
     "metadata": {},
     "output_type": "execute_result"
    }
   ],
   "source": [
    "X_train"
   ]
  },
  {
   "cell_type": "code",
   "execution_count": 249,
   "metadata": {},
   "outputs": [
    {
     "data": {
      "text/html": [
       "<div>\n",
       "<style scoped>\n",
       "    .dataframe tbody tr th:only-of-type {\n",
       "        vertical-align: middle;\n",
       "    }\n",
       "\n",
       "    .dataframe tbody tr th {\n",
       "        vertical-align: top;\n",
       "    }\n",
       "\n",
       "    .dataframe thead th {\n",
       "        text-align: right;\n",
       "    }\n",
       "</style>\n",
       "<table border=\"1\" class=\"dataframe\">\n",
       "  <thead>\n",
       "    <tr style=\"text-align: right;\">\n",
       "      <th></th>\n",
       "      <th>reviews</th>\n",
       "      <th>size</th>\n",
       "      <th>installs</th>\n",
       "      <th>price</th>\n",
       "      <th>suitable_for</th>\n",
       "    </tr>\n",
       "  </thead>\n",
       "  <tbody>\n",
       "    <tr>\n",
       "      <th>1825</th>\n",
       "      <td>445756</td>\n",
       "      <td>16000000</td>\n",
       "      <td>10000000</td>\n",
       "      <td>0.000</td>\n",
       "      <td>Everyone</td>\n",
       "    </tr>\n",
       "    <tr>\n",
       "      <th>1735</th>\n",
       "      <td>23</td>\n",
       "      <td>4000000</td>\n",
       "      <td>5000</td>\n",
       "      <td>0.000</td>\n",
       "      <td>Everyone</td>\n",
       "    </tr>\n",
       "    <tr>\n",
       "      <th>678</th>\n",
       "      <td>54</td>\n",
       "      <td>20000000</td>\n",
       "      <td>5000</td>\n",
       "      <td>0.000</td>\n",
       "      <td>Everyone</td>\n",
       "    </tr>\n",
       "    <tr>\n",
       "      <th>351</th>\n",
       "      <td>29155</td>\n",
       "      <td>83000000</td>\n",
       "      <td>1000000</td>\n",
       "      <td>0.000</td>\n",
       "      <td>Everyone</td>\n",
       "    </tr>\n",
       "    <tr>\n",
       "      <th>1791</th>\n",
       "      <td>14</td>\n",
       "      <td>2900000</td>\n",
       "      <td>500</td>\n",
       "      <td>0.990</td>\n",
       "      <td>Everyone</td>\n",
       "    </tr>\n",
       "    <tr>\n",
       "      <th>...</th>\n",
       "      <td>...</td>\n",
       "      <td>...</td>\n",
       "      <td>...</td>\n",
       "      <td>...</td>\n",
       "      <td>...</td>\n",
       "    </tr>\n",
       "    <tr>\n",
       "      <th>1146</th>\n",
       "      <td>175</td>\n",
       "      <td>4300000</td>\n",
       "      <td>10000</td>\n",
       "      <td>0.000</td>\n",
       "      <td>Everyone</td>\n",
       "    </tr>\n",
       "    <tr>\n",
       "      <th>1204</th>\n",
       "      <td>23</td>\n",
       "      <td>17000000</td>\n",
       "      <td>10000</td>\n",
       "      <td>0.000</td>\n",
       "      <td>Everyone</td>\n",
       "    </tr>\n",
       "    <tr>\n",
       "      <th>286</th>\n",
       "      <td>1475</td>\n",
       "      <td>34000000</td>\n",
       "      <td>10000</td>\n",
       "      <td>4.990</td>\n",
       "      <td>Teen</td>\n",
       "    </tr>\n",
       "    <tr>\n",
       "      <th>1936</th>\n",
       "      <td>197</td>\n",
       "      <td>9800000</td>\n",
       "      <td>10000</td>\n",
       "      <td>0.000</td>\n",
       "      <td>Everyone</td>\n",
       "    </tr>\n",
       "    <tr>\n",
       "      <th>1159</th>\n",
       "      <td>7505</td>\n",
       "      <td>9100000</td>\n",
       "      <td>100000</td>\n",
       "      <td>0.000</td>\n",
       "      <td>Everyone</td>\n",
       "    </tr>\n",
       "  </tbody>\n",
       "</table>\n",
       "<p>593 rows × 5 columns</p>\n",
       "</div>"
      ],
      "text/plain": [
       "      reviews      size  installs  price suitable_for\n",
       "1825   445756  16000000  10000000  0.000     Everyone\n",
       "1735       23   4000000      5000  0.000     Everyone\n",
       "678        54  20000000      5000  0.000     Everyone\n",
       "351     29155  83000000   1000000  0.000     Everyone\n",
       "1791       14   2900000       500  0.990     Everyone\n",
       "...       ...       ...       ...    ...          ...\n",
       "1146      175   4300000     10000  0.000     Everyone\n",
       "1204       23  17000000     10000  0.000     Everyone\n",
       "286      1475  34000000     10000  4.990         Teen\n",
       "1936      197   9800000     10000  0.000     Everyone\n",
       "1159     7505   9100000    100000  0.000     Everyone\n",
       "\n",
       "[593 rows x 5 columns]"
      ]
     },
     "execution_count": 249,
     "metadata": {},
     "output_type": "execute_result"
    }
   ],
   "source": [
    "X_test"
   ]
  },
  {
   "cell_type": "code",
   "execution_count": 250,
   "metadata": {},
   "outputs": [
    {
     "data": {
      "text/plain": [
       "1249    High\n",
       "1556     Low\n",
       "1617    High\n",
       "1567    High\n",
       "1027    High\n",
       "        ... \n",
       "1130     Low\n",
       "1294    High\n",
       "860     High\n",
       "1459    High\n",
       "1126    High\n",
       "Name: popularity, Length: 1382, dtype: object"
      ]
     },
     "execution_count": 250,
     "metadata": {},
     "output_type": "execute_result"
    }
   ],
   "source": [
    "y_train"
   ]
  },
  {
   "cell_type": "markdown",
   "metadata": {},
   "source": [
    "# Encoding Independent and Dependent Variable"
   ]
  },
  {
   "cell_type": "code",
   "execution_count": 253,
   "metadata": {},
   "outputs": [],
   "source": [
    "#Encoding Independent Variable\n",
    "ct = ColumnTransformer(transformers=[('encoder', OneHotEncoder(), [4])], remainder='passthrough')\n",
    "X_train_ohe = np.array(ct.fit_transform(X_train))"
   ]
  },
  {
   "cell_type": "code",
   "execution_count": 254,
   "metadata": {},
   "outputs": [
    {
     "data": {
      "text/plain": [
       "array([[0.0e+00, 1.0e+00, 0.0e+00, ..., 1.9e+07, 1.0e+06, 0.0e+00],\n",
       "       [0.0e+00, 0.0e+00, 0.0e+00, ..., 2.4e+07, 5.0e+05, 0.0e+00],\n",
       "       [0.0e+00, 1.0e+00, 0.0e+00, ..., 4.6e+07, 5.0e+03, 0.0e+00],\n",
       "       ...,\n",
       "       [0.0e+00, 1.0e+00, 0.0e+00, ..., 3.2e+06, 1.0e+05, 0.0e+00],\n",
       "       [0.0e+00, 1.0e+00, 0.0e+00, ..., 1.1e+07, 5.0e+04, 0.0e+00],\n",
       "       [0.0e+00, 0.0e+00, 0.0e+00, ..., 7.8e+07, 5.0e+05, 0.0e+00]])"
      ]
     },
     "execution_count": 254,
     "metadata": {},
     "output_type": "execute_result"
    }
   ],
   "source": [
    "X_train_ohe"
   ]
  },
  {
   "cell_type": "code",
   "execution_count": 255,
   "metadata": {},
   "outputs": [],
   "source": [
    "X_test_ohe = np.array(ct.transform(X_test))"
   ]
  },
  {
   "cell_type": "code",
   "execution_count": 256,
   "metadata": {},
   "outputs": [],
   "source": [
    "# Encoding the Dependent Variable\n",
    "from sklearn.preprocessing import LabelEncoder\n",
    "le = LabelEncoder()\n",
    "y_train_ohe = le.fit_transform(y_train)"
   ]
  },
  {
   "cell_type": "code",
   "execution_count": 257,
   "metadata": {},
   "outputs": [],
   "source": [
    "y_test_ohe = le.transform(y_test)"
   ]
  },
  {
   "cell_type": "code",
   "execution_count": 229,
   "metadata": {},
   "outputs": [
    {
     "data": {
      "text/plain": [
       "array([0, 1, 1, 0, 0, 1, 0, 0, 0, 0, 0, 0, 0, 1, 1, 0, 0, 1, 0, 0, 0, 1,\n",
       "       0, 0, 0, 1, 0, 0, 1, 0, 0, 0, 0, 0, 0, 1, 0, 0, 0, 0, 0, 1, 0, 0,\n",
       "       0, 0, 0, 0, 0, 0, 1, 0, 0, 0, 1, 1, 0, 0, 0, 1, 0, 0, 0, 1, 1, 0,\n",
       "       0, 1, 0, 0, 0, 0, 1, 0, 0, 1, 0, 0, 1, 0, 0, 0, 0, 1, 1, 0, 0, 0,\n",
       "       0, 1, 0, 0, 0, 0, 0, 1, 0, 1, 1, 1, 0, 1, 0, 0, 0, 0, 0, 1, 0, 0,\n",
       "       0, 1, 0, 0, 0, 0, 1, 0, 0, 0, 1, 1, 0, 1, 1, 0, 0, 0, 1, 1, 0, 0,\n",
       "       0, 0, 0, 0, 0, 0, 0, 0, 0, 0, 0, 0, 0, 0, 1, 0, 0, 1, 0, 0, 1, 0,\n",
       "       0, 0, 1, 0, 1, 0, 0, 0, 0, 0, 1, 0, 0, 0, 1, 0, 0, 0, 0, 1, 1, 0,\n",
       "       0, 0, 0, 1, 0, 0, 1, 0, 0, 1, 0, 0, 1, 0, 1, 0, 0, 0, 1, 0, 0, 0,\n",
       "       1, 0, 0, 1, 0, 1, 0, 0, 0, 1, 0, 0, 1, 1, 1, 0, 0, 0, 0, 0, 0, 0,\n",
       "       1, 0, 1, 0, 0, 0, 1, 0, 1, 0, 0, 0, 0, 0, 1, 1, 0, 1, 0, 0, 0, 0,\n",
       "       0, 1, 1, 1, 0, 1, 1, 0, 0, 1, 0, 0, 0, 0, 0, 0, 0, 1, 0, 0, 0, 0,\n",
       "       0, 0, 0, 0, 0, 0, 0, 0, 0, 0, 0, 0, 0, 0, 0, 0, 0, 0, 1, 1, 0, 0,\n",
       "       0, 0, 1, 0, 0, 1, 1, 0, 0, 1, 0, 1, 0, 0, 0, 0, 1, 1, 1, 0, 0, 0,\n",
       "       0, 0, 0, 0, 0, 1, 0, 0, 0, 0, 1, 1, 0, 1, 0, 0, 1, 0, 0, 1, 0, 0,\n",
       "       0, 1, 0, 0, 0, 1, 1, 0, 0, 1, 0, 0, 0, 0, 0, 0, 0, 0, 0, 0, 0, 1,\n",
       "       0, 1, 0, 1, 0, 1, 1, 0, 1, 1, 0, 0, 1, 0, 1, 0, 0, 0, 1, 1, 0, 0,\n",
       "       0, 0, 1, 0, 0, 0, 0, 0, 0, 0, 0, 0, 0, 0, 0, 0, 0, 1, 0, 0, 1, 1,\n",
       "       0, 1, 0, 0, 0, 0, 0, 0, 0, 0, 0, 0, 0, 0, 0, 0, 0, 0, 0, 1, 0, 0,\n",
       "       0, 0, 0, 0, 0, 0, 0, 0, 0, 0, 1, 1, 0, 0, 0, 0, 1, 1, 0, 0, 0, 0,\n",
       "       0, 0, 0, 0, 0, 0, 0, 1, 1, 0, 1, 0, 0, 0, 0, 1, 1, 0, 1, 1, 0, 1,\n",
       "       0, 0, 0, 0, 1, 0, 1, 0, 0, 1, 0, 0, 0, 0, 0, 1, 0, 0, 1, 0, 0, 0,\n",
       "       1, 0, 0, 0, 0, 0, 0, 1, 0, 0, 0, 0, 0, 0, 0, 0, 0, 0, 0, 0, 0, 0,\n",
       "       0, 0, 0, 1, 0, 0, 0, 1, 0, 0, 0, 0, 0, 0, 0, 0, 0, 0, 1, 0, 0, 1,\n",
       "       0, 1, 0, 1, 0, 0, 0, 0, 0, 1, 0, 1, 0, 0, 1, 1, 0, 0, 0, 1, 1, 0,\n",
       "       1, 0, 0, 1, 0, 1, 0, 0, 1, 0, 0, 0, 0, 0, 0, 0, 1, 0, 0, 1, 0, 0,\n",
       "       0, 0, 0, 1, 1, 0, 0, 0, 0, 0, 0, 0, 0, 0, 0, 0, 0, 0, 0, 1, 0])"
      ]
     },
     "execution_count": 229,
     "metadata": {},
     "output_type": "execute_result"
    }
   ],
   "source": [
    "y_test_ohe"
   ]
  },
  {
   "cell_type": "markdown",
   "metadata": {},
   "source": [
    "# Training model with Decision Tree Classifier"
   ]
  },
  {
   "cell_type": "code",
   "execution_count": 258,
   "metadata": {},
   "outputs": [
    {
     "data": {
      "text/plain": [
       "DecisionTreeClassifier(class_weight=None, criterion='entropy', max_depth=None,\n",
       "                       max_features=None, max_leaf_nodes=None,\n",
       "                       min_impurity_decrease=0.0, min_impurity_split=None,\n",
       "                       min_samples_leaf=1, min_samples_split=2,\n",
       "                       min_weight_fraction_leaf=0.0, presort=False,\n",
       "                       random_state=0, splitter='best')"
      ]
     },
     "execution_count": 258,
     "metadata": {},
     "output_type": "execute_result"
    }
   ],
   "source": [
    "# Training the Decision Tree Classification model on the Training set\n",
    "from sklearn.tree import DecisionTreeClassifier\n",
    "classifier = DecisionTreeClassifier(criterion = 'entropy', random_state = 0)\n",
    "classifier.fit(X_train_ohe, y_train_ohe)"
   ]
  },
  {
   "cell_type": "markdown",
   "metadata": {},
   "source": [
    "# Validation set results"
   ]
  },
  {
   "cell_type": "code",
   "execution_count": 260,
   "metadata": {},
   "outputs": [],
   "source": [
    "y_pred = classifier.predict(X_test_ohe)"
   ]
  },
  {
   "cell_type": "code",
   "execution_count": 261,
   "metadata": {},
   "outputs": [
    {
     "data": {
      "text/plain": [
       "array([0, 0, 0, 0, 1, 1, 0, 0, 0, 0, 1, 0, 0, 0, 0, 0, 0, 0, 1, 0, 0, 1,\n",
       "       0, 0, 0, 1, 0, 0, 0, 0, 0, 0, 0, 0, 0, 1, 0, 1, 0, 0, 0, 0, 0, 0,\n",
       "       0, 1, 0, 0, 0, 0, 0, 0, 1, 0, 1, 1, 1, 0, 0, 0, 0, 0, 0, 0, 0, 0,\n",
       "       0, 0, 1, 0, 0, 0, 0, 1, 0, 1, 0, 0, 0, 0, 0, 0, 1, 0, 0, 0, 0, 1,\n",
       "       0, 0, 1, 0, 0, 0, 0, 1, 1, 1, 0, 0, 1, 0, 1, 0, 0, 0, 0, 0, 0, 0,\n",
       "       1, 1, 0, 0, 0, 1, 0, 0, 1, 0, 0, 0, 0, 1, 0, 1, 0, 1, 0, 0, 0, 1,\n",
       "       0, 0, 1, 0, 0, 0, 0, 0, 0, 0, 0, 0, 0, 0, 0, 0, 0, 0, 0, 0, 1, 0,\n",
       "       0, 0, 1, 1, 0, 0, 0, 0, 0, 0, 0, 0, 0, 1, 0, 0, 0, 0, 0, 0, 0, 1,\n",
       "       1, 0, 0, 1, 0, 0, 0, 0, 0, 0, 0, 0, 0, 1, 0, 0, 1, 0, 0, 0, 0, 0,\n",
       "       1, 0, 0, 0, 0, 1, 1, 0, 0, 1, 1, 0, 1, 0, 0, 0, 0, 0, 0, 0, 0, 1,\n",
       "       0, 0, 1, 1, 0, 0, 1, 0, 1, 0, 0, 0, 1, 0, 0, 1, 0, 1, 0, 0, 0, 0,\n",
       "       0, 1, 1, 1, 1, 1, 0, 0, 0, 0, 1, 0, 0, 1, 0, 0, 0, 0, 0, 0, 0, 0,\n",
       "       0, 1, 0, 0, 0, 0, 0, 0, 0, 0, 0, 0, 0, 0, 0, 0, 0, 0, 1, 1, 0, 0,\n",
       "       0, 0, 1, 0, 0, 1, 0, 0, 0, 0, 1, 0, 0, 0, 0, 0, 0, 1, 0, 0, 0, 0,\n",
       "       0, 0, 0, 1, 0, 0, 0, 0, 1, 0, 0, 0, 0, 1, 0, 0, 0, 0, 0, 0, 0, 1,\n",
       "       0, 0, 0, 1, 0, 0, 0, 0, 0, 0, 0, 0, 0, 0, 0, 0, 0, 0, 0, 0, 0, 1,\n",
       "       1, 1, 1, 1, 0, 1, 0, 0, 0, 0, 0, 0, 0, 0, 0, 0, 0, 0, 1, 0, 0, 0,\n",
       "       0, 0, 0, 0, 0, 0, 0, 0, 0, 0, 0, 1, 0, 0, 1, 0, 0, 0, 0, 1, 0, 0,\n",
       "       1, 0, 0, 0, 1, 0, 0, 0, 0, 0, 0, 0, 1, 0, 0, 0, 0, 0, 0, 1, 0, 0,\n",
       "       0, 0, 0, 0, 0, 0, 0, 1, 0, 0, 0, 1, 0, 0, 0, 1, 0, 0, 0, 0, 0, 1,\n",
       "       0, 0, 0, 0, 0, 0, 0, 0, 0, 0, 0, 0, 0, 0, 0, 1, 1, 0, 0, 0, 1, 0,\n",
       "       0, 0, 0, 0, 1, 0, 0, 0, 0, 0, 0, 0, 0, 0, 0, 0, 0, 0, 0, 0, 1, 0,\n",
       "       0, 0, 0, 1, 0, 0, 0, 0, 0, 0, 0, 0, 0, 0, 0, 0, 0, 0, 0, 0, 0, 0,\n",
       "       0, 0, 1, 0, 1, 0, 0, 0, 0, 0, 0, 1, 1, 0, 0, 0, 0, 0, 1, 0, 0, 0,\n",
       "       0, 0, 0, 0, 0, 0, 0, 0, 0, 0, 0, 1, 0, 0, 0, 0, 0, 0, 0, 0, 0, 0,\n",
       "       0, 1, 0, 1, 0, 0, 1, 0, 0, 0, 0, 0, 0, 0, 0, 1, 1, 0, 0, 1, 0, 1,\n",
       "       0, 0, 0, 0, 1, 1, 0, 0, 0, 0, 0, 0, 0, 0, 0, 0, 0, 0, 0, 0, 0])"
      ]
     },
     "execution_count": 261,
     "metadata": {},
     "output_type": "execute_result"
    }
   ],
   "source": [
    "y_pred"
   ]
  },
  {
   "cell_type": "code",
   "execution_count": 262,
   "metadata": {},
   "outputs": [
    {
     "name": "stdout",
     "output_type": "stream",
     "text": [
      "[[0 0]\n",
      " [0 1]\n",
      " [0 1]\n",
      " ...\n",
      " [0 0]\n",
      " [0 1]\n",
      " [0 0]]\n"
     ]
    }
   ],
   "source": [
    "print(np.concatenate((y_pred.reshape(len(y_pred),1),y_test_ohe.reshape(len(y_test),1)),1))"
   ]
  },
  {
   "cell_type": "markdown",
   "metadata": {},
   "source": [
    "# Confusion matrix"
   ]
  },
  {
   "cell_type": "code",
   "execution_count": 263,
   "metadata": {},
   "outputs": [
    {
     "name": "stdout",
     "output_type": "stream",
     "text": [
      "[[377  65]\n",
      " [102  49]]\n"
     ]
    },
    {
     "data": {
      "text/plain": [
       "0.718381112984823"
      ]
     },
     "execution_count": 263,
     "metadata": {},
     "output_type": "execute_result"
    }
   ],
   "source": [
    "# Making the Confusion Matrix\n",
    "from sklearn.metrics import confusion_matrix, accuracy_score\n",
    "cm = confusion_matrix(y_test_ohe, y_pred)\n",
    "print(cm)\n",
    "accuracy_score(y_test_ohe, y_pred)"
   ]
  },
  {
   "cell_type": "markdown",
   "metadata": {},
   "source": [
    "# Loading Test data"
   ]
  },
  {
   "cell_type": "code",
   "execution_count": null,
   "metadata": {
    "colab": {},
    "colab_type": "code",
    "id": "nzkTA5ii6i3s"
   },
   "outputs": [],
   "source": [
    "#Loading Test data\n",
    "test_data=pd.read_csv('test.csv')\n",
    "test_data.head()"
   ]
  },
  {
   "cell_type": "markdown",
   "metadata": {},
   "source": [
    "# Test data pre-processing"
   ]
  },
  {
   "cell_type": "code",
   "execution_count": 266,
   "metadata": {
    "colab": {},
    "colab_type": "code",
    "id": "EACDc1md6jBU"
   },
   "outputs": [],
   "source": [
    "test_data['size'] = test_data['size'].replace({'k': '*1e3', 'M': '*1e6'}, regex=True).map(pd.eval).astype(int)"
   ]
  },
  {
   "cell_type": "code",
   "execution_count": 267,
   "metadata": {
    "colab": {},
    "colab_type": "code",
    "id": "IoIK6k046jJ_"
   },
   "outputs": [],
   "source": [
    "test_data['installs']=test_data['installs'].str.replace(',','')"
   ]
  },
  {
   "cell_type": "code",
   "execution_count": 268,
   "metadata": {
    "colab": {},
    "colab_type": "code",
    "id": "dDUszYgY6jTC"
   },
   "outputs": [],
   "source": [
    "test_data['installs']=test_data['installs'].str.replace('+','')"
   ]
  },
  {
   "cell_type": "code",
   "execution_count": 269,
   "metadata": {},
   "outputs": [],
   "source": [
    "test_data[\"installs\"] = pd.to_numeric(test_data[\"installs\"])"
   ]
  },
  {
   "cell_type": "code",
   "execution_count": 270,
   "metadata": {},
   "outputs": [],
   "source": [
    "test_data['price']=test_data['price'].str.replace('$','')"
   ]
  },
  {
   "cell_type": "code",
   "execution_count": 271,
   "metadata": {},
   "outputs": [],
   "source": [
    "test_data[\"price\"] = pd.to_numeric(test_data[\"price\"])"
   ]
  },
  {
   "cell_type": "code",
   "execution_count": 272,
   "metadata": {},
   "outputs": [
    {
     "data": {
      "text/html": [
       "<div>\n",
       "<style scoped>\n",
       "    .dataframe tbody tr th:only-of-type {\n",
       "        vertical-align: middle;\n",
       "    }\n",
       "\n",
       "    .dataframe tbody tr th {\n",
       "        vertical-align: top;\n",
       "    }\n",
       "\n",
       "    .dataframe thead th {\n",
       "        text-align: right;\n",
       "    }\n",
       "</style>\n",
       "<table border=\"1\" class=\"dataframe\">\n",
       "  <thead>\n",
       "    <tr style=\"text-align: right;\">\n",
       "      <th></th>\n",
       "      <th>app_id</th>\n",
       "      <th>category</th>\n",
       "      <th>reviews</th>\n",
       "      <th>size</th>\n",
       "      <th>installs</th>\n",
       "      <th>price</th>\n",
       "      <th>suitable_for</th>\n",
       "      <th>last_update</th>\n",
       "      <th>latest_ver</th>\n",
       "    </tr>\n",
       "  </thead>\n",
       "  <tbody>\n",
       "    <tr>\n",
       "      <th>0</th>\n",
       "      <td>144236</td>\n",
       "      <td>TOOLS</td>\n",
       "      <td>262076</td>\n",
       "      <td>1200000</td>\n",
       "      <td>10000000</td>\n",
       "      <td>0.000</td>\n",
       "      <td>Everyone</td>\n",
       "      <td>January 4, 2018</td>\n",
       "      <td>1.0.2</td>\n",
       "    </tr>\n",
       "    <tr>\n",
       "      <th>1</th>\n",
       "      <td>881323</td>\n",
       "      <td>PHOTOGRAPHY</td>\n",
       "      <td>12204</td>\n",
       "      <td>6800000</td>\n",
       "      <td>1000000</td>\n",
       "      <td>0.000</td>\n",
       "      <td>Everyone</td>\n",
       "      <td>March 14, 2017</td>\n",
       "      <td>1.5.2.21</td>\n",
       "    </tr>\n",
       "    <tr>\n",
       "      <th>2</th>\n",
       "      <td>765524</td>\n",
       "      <td>TOOLS</td>\n",
       "      <td>632</td>\n",
       "      <td>8199999</td>\n",
       "      <td>500000</td>\n",
       "      <td>0.000</td>\n",
       "      <td>Everyone</td>\n",
       "      <td>May 23, 2017</td>\n",
       "      <td>1.0</td>\n",
       "    </tr>\n",
       "    <tr>\n",
       "      <th>3</th>\n",
       "      <td>390533</td>\n",
       "      <td>BUSINESS</td>\n",
       "      <td>29</td>\n",
       "      <td>16000000</td>\n",
       "      <td>500</td>\n",
       "      <td>0.000</td>\n",
       "      <td>Everyone</td>\n",
       "      <td>July 5, 2018</td>\n",
       "      <td>2.2.1335</td>\n",
       "    </tr>\n",
       "    <tr>\n",
       "      <th>4</th>\n",
       "      <td>817383</td>\n",
       "      <td>ART_AND_DESIGN</td>\n",
       "      <td>192</td>\n",
       "      <td>6000000</td>\n",
       "      <td>10000</td>\n",
       "      <td>0.000</td>\n",
       "      <td>Everyone</td>\n",
       "      <td>April 25, 2018</td>\n",
       "      <td>1.5</td>\n",
       "    </tr>\n",
       "  </tbody>\n",
       "</table>\n",
       "</div>"
      ],
      "text/plain": [
       "   app_id        category  reviews      size  installs  price suitable_for  \\\n",
       "0  144236           TOOLS   262076   1200000  10000000  0.000     Everyone   \n",
       "1  881323     PHOTOGRAPHY    12204   6800000   1000000  0.000     Everyone   \n",
       "2  765524           TOOLS      632   8199999    500000  0.000     Everyone   \n",
       "3  390533        BUSINESS       29  16000000       500  0.000     Everyone   \n",
       "4  817383  ART_AND_DESIGN      192   6000000     10000  0.000     Everyone   \n",
       "\n",
       "       last_update latest_ver  \n",
       "0  January 4, 2018      1.0.2  \n",
       "1   March 14, 2017   1.5.2.21  \n",
       "2     May 23, 2017        1.0  \n",
       "3     July 5, 2018   2.2.1335  \n",
       "4   April 25, 2018        1.5  "
      ]
     },
     "execution_count": 272,
     "metadata": {},
     "output_type": "execute_result"
    }
   ],
   "source": [
    "test_data.head()"
   ]
  },
  {
   "cell_type": "code",
   "execution_count": 274,
   "metadata": {
    "colab": {},
    "colab_type": "code",
    "id": "Q10pPSlJ6jxF"
   },
   "outputs": [],
   "source": [
    "Xtest = test_data.drop(['category','app_id', 'latest_ver', 'last_update'], axis=1)"
   ]
  },
  {
   "cell_type": "code",
   "execution_count": 275,
   "metadata": {
    "colab": {},
    "colab_type": "code",
    "id": "R_2d0xVRdwxw"
   },
   "outputs": [
    {
     "data": {
      "text/html": [
       "<div>\n",
       "<style scoped>\n",
       "    .dataframe tbody tr th:only-of-type {\n",
       "        vertical-align: middle;\n",
       "    }\n",
       "\n",
       "    .dataframe tbody tr th {\n",
       "        vertical-align: top;\n",
       "    }\n",
       "\n",
       "    .dataframe thead th {\n",
       "        text-align: right;\n",
       "    }\n",
       "</style>\n",
       "<table border=\"1\" class=\"dataframe\">\n",
       "  <thead>\n",
       "    <tr style=\"text-align: right;\">\n",
       "      <th></th>\n",
       "      <th>reviews</th>\n",
       "      <th>size</th>\n",
       "      <th>installs</th>\n",
       "      <th>price</th>\n",
       "      <th>suitable_for</th>\n",
       "    </tr>\n",
       "  </thead>\n",
       "  <tbody>\n",
       "    <tr>\n",
       "      <th>0</th>\n",
       "      <td>262076</td>\n",
       "      <td>1200000</td>\n",
       "      <td>10000000</td>\n",
       "      <td>0.000</td>\n",
       "      <td>Everyone</td>\n",
       "    </tr>\n",
       "    <tr>\n",
       "      <th>1</th>\n",
       "      <td>12204</td>\n",
       "      <td>6800000</td>\n",
       "      <td>1000000</td>\n",
       "      <td>0.000</td>\n",
       "      <td>Everyone</td>\n",
       "    </tr>\n",
       "    <tr>\n",
       "      <th>2</th>\n",
       "      <td>632</td>\n",
       "      <td>8199999</td>\n",
       "      <td>500000</td>\n",
       "      <td>0.000</td>\n",
       "      <td>Everyone</td>\n",
       "    </tr>\n",
       "    <tr>\n",
       "      <th>3</th>\n",
       "      <td>29</td>\n",
       "      <td>16000000</td>\n",
       "      <td>500</td>\n",
       "      <td>0.000</td>\n",
       "      <td>Everyone</td>\n",
       "    </tr>\n",
       "    <tr>\n",
       "      <th>4</th>\n",
       "      <td>192</td>\n",
       "      <td>6000000</td>\n",
       "      <td>10000</td>\n",
       "      <td>0.000</td>\n",
       "      <td>Everyone</td>\n",
       "    </tr>\n",
       "    <tr>\n",
       "      <th>...</th>\n",
       "      <td>...</td>\n",
       "      <td>...</td>\n",
       "      <td>...</td>\n",
       "      <td>...</td>\n",
       "      <td>...</td>\n",
       "    </tr>\n",
       "    <tr>\n",
       "      <th>1013</th>\n",
       "      <td>357944</td>\n",
       "      <td>12000000</td>\n",
       "      <td>10000000</td>\n",
       "      <td>0.000</td>\n",
       "      <td>Everyone</td>\n",
       "    </tr>\n",
       "    <tr>\n",
       "      <th>1014</th>\n",
       "      <td>125</td>\n",
       "      <td>4300000</td>\n",
       "      <td>10000</td>\n",
       "      <td>0.000</td>\n",
       "      <td>Everyone</td>\n",
       "    </tr>\n",
       "    <tr>\n",
       "      <th>1015</th>\n",
       "      <td>315</td>\n",
       "      <td>14000000</td>\n",
       "      <td>10000</td>\n",
       "      <td>0.000</td>\n",
       "      <td>Everyone</td>\n",
       "    </tr>\n",
       "    <tr>\n",
       "      <th>1016</th>\n",
       "      <td>11</td>\n",
       "      <td>3500000</td>\n",
       "      <td>500</td>\n",
       "      <td>0.000</td>\n",
       "      <td>Mature 17+</td>\n",
       "    </tr>\n",
       "    <tr>\n",
       "      <th>1017</th>\n",
       "      <td>64</td>\n",
       "      <td>81000000</td>\n",
       "      <td>10000</td>\n",
       "      <td>0.000</td>\n",
       "      <td>Everyone</td>\n",
       "    </tr>\n",
       "  </tbody>\n",
       "</table>\n",
       "<p>1018 rows × 5 columns</p>\n",
       "</div>"
      ],
      "text/plain": [
       "      reviews      size  installs  price suitable_for\n",
       "0      262076   1200000  10000000  0.000     Everyone\n",
       "1       12204   6800000   1000000  0.000     Everyone\n",
       "2         632   8199999    500000  0.000     Everyone\n",
       "3          29  16000000       500  0.000     Everyone\n",
       "4         192   6000000     10000  0.000     Everyone\n",
       "...       ...       ...       ...    ...          ...\n",
       "1013   357944  12000000  10000000  0.000     Everyone\n",
       "1014      125   4300000     10000  0.000     Everyone\n",
       "1015      315  14000000     10000  0.000     Everyone\n",
       "1016       11   3500000       500  0.000   Mature 17+\n",
       "1017       64  81000000     10000  0.000     Everyone\n",
       "\n",
       "[1018 rows x 5 columns]"
      ]
     },
     "execution_count": 275,
     "metadata": {},
     "output_type": "execute_result"
    }
   ],
   "source": [
    "Xtest"
   ]
  },
  {
   "cell_type": "code",
   "execution_count": 295,
   "metadata": {},
   "outputs": [],
   "source": [
    "app_id = test_data['app_id']"
   ]
  },
  {
   "cell_type": "code",
   "execution_count": 296,
   "metadata": {},
   "outputs": [
    {
     "data": {
      "text/plain": [
       "0       144236\n",
       "1       881323\n",
       "2       765524\n",
       "3       390533\n",
       "4       817383\n",
       "         ...  \n",
       "1013    990872\n",
       "1014    850376\n",
       "1015    983504\n",
       "1016    886153\n",
       "1017    541500\n",
       "Name: app_id, Length: 1018, dtype: int64"
      ]
     },
     "execution_count": 296,
     "metadata": {},
     "output_type": "execute_result"
    }
   ],
   "source": [
    "app_id"
   ]
  },
  {
   "cell_type": "markdown",
   "metadata": {},
   "source": [
    "# Encoding Test data set"
   ]
  },
  {
   "cell_type": "code",
   "execution_count": 289,
   "metadata": {},
   "outputs": [],
   "source": [
    "Xtest_ohe = np.array(ct.transform(Xtest))"
   ]
  },
  {
   "cell_type": "markdown",
   "metadata": {},
   "source": [
    "# Predicting on test set"
   ]
  },
  {
   "cell_type": "code",
   "execution_count": 291,
   "metadata": {
    "colab": {},
    "colab_type": "code",
    "id": "SgMLBdBaL673"
   },
   "outputs": [],
   "source": [
    "y_pred_test = classifier.predict(Xtest_ohe)"
   ]
  },
  {
   "cell_type": "code",
   "execution_count": 292,
   "metadata": {},
   "outputs": [
    {
     "data": {
      "text/plain": [
       "array([0, 0, 0, ..., 1, 0, 1])"
      ]
     },
     "execution_count": 292,
     "metadata": {},
     "output_type": "execute_result"
    }
   ],
   "source": [
    "y_pred_test"
   ]
  },
  {
   "cell_type": "code",
   "execution_count": 301,
   "metadata": {},
   "outputs": [],
   "source": [
    "ypred = pd.DataFrame(y_pred_test, columns=['popularity'])"
   ]
  },
  {
   "cell_type": "code",
   "execution_count": 305,
   "metadata": {},
   "outputs": [
    {
     "data": {
      "text/html": [
       "<div>\n",
       "<style scoped>\n",
       "    .dataframe tbody tr th:only-of-type {\n",
       "        vertical-align: middle;\n",
       "    }\n",
       "\n",
       "    .dataframe tbody tr th {\n",
       "        vertical-align: top;\n",
       "    }\n",
       "\n",
       "    .dataframe thead th {\n",
       "        text-align: right;\n",
       "    }\n",
       "</style>\n",
       "<table border=\"1\" class=\"dataframe\">\n",
       "  <thead>\n",
       "    <tr style=\"text-align: right;\">\n",
       "      <th></th>\n",
       "      <th>popularity</th>\n",
       "    </tr>\n",
       "  </thead>\n",
       "  <tbody>\n",
       "    <tr>\n",
       "      <th>0</th>\n",
       "      <td>0</td>\n",
       "    </tr>\n",
       "    <tr>\n",
       "      <th>1</th>\n",
       "      <td>0</td>\n",
       "    </tr>\n",
       "    <tr>\n",
       "      <th>2</th>\n",
       "      <td>0</td>\n",
       "    </tr>\n",
       "    <tr>\n",
       "      <th>3</th>\n",
       "      <td>1</td>\n",
       "    </tr>\n",
       "    <tr>\n",
       "      <th>4</th>\n",
       "      <td>0</td>\n",
       "    </tr>\n",
       "    <tr>\n",
       "      <th>...</th>\n",
       "      <td>...</td>\n",
       "    </tr>\n",
       "    <tr>\n",
       "      <th>1013</th>\n",
       "      <td>0</td>\n",
       "    </tr>\n",
       "    <tr>\n",
       "      <th>1014</th>\n",
       "      <td>0</td>\n",
       "    </tr>\n",
       "    <tr>\n",
       "      <th>1015</th>\n",
       "      <td>1</td>\n",
       "    </tr>\n",
       "    <tr>\n",
       "      <th>1016</th>\n",
       "      <td>0</td>\n",
       "    </tr>\n",
       "    <tr>\n",
       "      <th>1017</th>\n",
       "      <td>1</td>\n",
       "    </tr>\n",
       "  </tbody>\n",
       "</table>\n",
       "<p>1018 rows × 1 columns</p>\n",
       "</div>"
      ],
      "text/plain": [
       "      popularity\n",
       "0              0\n",
       "1              0\n",
       "2              0\n",
       "3              1\n",
       "4              0\n",
       "...          ...\n",
       "1013           0\n",
       "1014           0\n",
       "1015           1\n",
       "1016           0\n",
       "1017           1\n",
       "\n",
       "[1018 rows x 1 columns]"
      ]
     },
     "execution_count": 305,
     "metadata": {},
     "output_type": "execute_result"
    }
   ],
   "source": [
    "ypred"
   ]
  },
  {
   "cell_type": "code",
   "execution_count": 307,
   "metadata": {},
   "outputs": [],
   "source": [
    "ypred_og = le.inverse_transform(y_pred_test)"
   ]
  },
  {
   "cell_type": "code",
   "execution_count": 308,
   "metadata": {},
   "outputs": [
    {
     "data": {
      "text/plain": [
       "array(['High', 'High', 'High', ..., 'Low', 'High', 'Low'], dtype=object)"
      ]
     },
     "execution_count": 308,
     "metadata": {},
     "output_type": "execute_result"
    }
   ],
   "source": [
    "ypred_og"
   ]
  },
  {
   "cell_type": "code",
   "execution_count": 309,
   "metadata": {},
   "outputs": [],
   "source": [
    "ypred_df = pd.DataFrame(ypred_og, columns=['popularity'])"
   ]
  },
  {
   "cell_type": "code",
   "execution_count": 310,
   "metadata": {},
   "outputs": [
    {
     "data": {
      "text/html": [
       "<div>\n",
       "<style scoped>\n",
       "    .dataframe tbody tr th:only-of-type {\n",
       "        vertical-align: middle;\n",
       "    }\n",
       "\n",
       "    .dataframe tbody tr th {\n",
       "        vertical-align: top;\n",
       "    }\n",
       "\n",
       "    .dataframe thead th {\n",
       "        text-align: right;\n",
       "    }\n",
       "</style>\n",
       "<table border=\"1\" class=\"dataframe\">\n",
       "  <thead>\n",
       "    <tr style=\"text-align: right;\">\n",
       "      <th></th>\n",
       "      <th>popularity</th>\n",
       "    </tr>\n",
       "  </thead>\n",
       "  <tbody>\n",
       "    <tr>\n",
       "      <th>0</th>\n",
       "      <td>High</td>\n",
       "    </tr>\n",
       "    <tr>\n",
       "      <th>1</th>\n",
       "      <td>High</td>\n",
       "    </tr>\n",
       "    <tr>\n",
       "      <th>2</th>\n",
       "      <td>High</td>\n",
       "    </tr>\n",
       "    <tr>\n",
       "      <th>3</th>\n",
       "      <td>Low</td>\n",
       "    </tr>\n",
       "    <tr>\n",
       "      <th>4</th>\n",
       "      <td>High</td>\n",
       "    </tr>\n",
       "    <tr>\n",
       "      <th>...</th>\n",
       "      <td>...</td>\n",
       "    </tr>\n",
       "    <tr>\n",
       "      <th>1013</th>\n",
       "      <td>High</td>\n",
       "    </tr>\n",
       "    <tr>\n",
       "      <th>1014</th>\n",
       "      <td>High</td>\n",
       "    </tr>\n",
       "    <tr>\n",
       "      <th>1015</th>\n",
       "      <td>Low</td>\n",
       "    </tr>\n",
       "    <tr>\n",
       "      <th>1016</th>\n",
       "      <td>High</td>\n",
       "    </tr>\n",
       "    <tr>\n",
       "      <th>1017</th>\n",
       "      <td>Low</td>\n",
       "    </tr>\n",
       "  </tbody>\n",
       "</table>\n",
       "<p>1018 rows × 1 columns</p>\n",
       "</div>"
      ],
      "text/plain": [
       "     popularity\n",
       "0          High\n",
       "1          High\n",
       "2          High\n",
       "3           Low\n",
       "4          High\n",
       "...         ...\n",
       "1013       High\n",
       "1014       High\n",
       "1015        Low\n",
       "1016       High\n",
       "1017        Low\n",
       "\n",
       "[1018 rows x 1 columns]"
      ]
     },
     "execution_count": 310,
     "metadata": {},
     "output_type": "execute_result"
    }
   ],
   "source": [
    "ypred_df"
   ]
  },
  {
   "cell_type": "code",
   "execution_count": 313,
   "metadata": {},
   "outputs": [],
   "source": [
    "app_id_df = pd.DataFrame(app_id, columns=['app_id'])"
   ]
  },
  {
   "cell_type": "code",
   "execution_count": 315,
   "metadata": {},
   "outputs": [
    {
     "data": {
      "text/html": [
       "<div>\n",
       "<style scoped>\n",
       "    .dataframe tbody tr th:only-of-type {\n",
       "        vertical-align: middle;\n",
       "    }\n",
       "\n",
       "    .dataframe tbody tr th {\n",
       "        vertical-align: top;\n",
       "    }\n",
       "\n",
       "    .dataframe thead th {\n",
       "        text-align: right;\n",
       "    }\n",
       "</style>\n",
       "<table border=\"1\" class=\"dataframe\">\n",
       "  <thead>\n",
       "    <tr style=\"text-align: right;\">\n",
       "      <th></th>\n",
       "      <th>app_id</th>\n",
       "    </tr>\n",
       "  </thead>\n",
       "  <tbody>\n",
       "    <tr>\n",
       "      <th>0</th>\n",
       "      <td>144236</td>\n",
       "    </tr>\n",
       "    <tr>\n",
       "      <th>1</th>\n",
       "      <td>881323</td>\n",
       "    </tr>\n",
       "    <tr>\n",
       "      <th>2</th>\n",
       "      <td>765524</td>\n",
       "    </tr>\n",
       "    <tr>\n",
       "      <th>3</th>\n",
       "      <td>390533</td>\n",
       "    </tr>\n",
       "    <tr>\n",
       "      <th>4</th>\n",
       "      <td>817383</td>\n",
       "    </tr>\n",
       "    <tr>\n",
       "      <th>...</th>\n",
       "      <td>...</td>\n",
       "    </tr>\n",
       "    <tr>\n",
       "      <th>1013</th>\n",
       "      <td>990872</td>\n",
       "    </tr>\n",
       "    <tr>\n",
       "      <th>1014</th>\n",
       "      <td>850376</td>\n",
       "    </tr>\n",
       "    <tr>\n",
       "      <th>1015</th>\n",
       "      <td>983504</td>\n",
       "    </tr>\n",
       "    <tr>\n",
       "      <th>1016</th>\n",
       "      <td>886153</td>\n",
       "    </tr>\n",
       "    <tr>\n",
       "      <th>1017</th>\n",
       "      <td>541500</td>\n",
       "    </tr>\n",
       "  </tbody>\n",
       "</table>\n",
       "<p>1018 rows × 1 columns</p>\n",
       "</div>"
      ],
      "text/plain": [
       "      app_id\n",
       "0     144236\n",
       "1     881323\n",
       "2     765524\n",
       "3     390533\n",
       "4     817383\n",
       "...      ...\n",
       "1013  990872\n",
       "1014  850376\n",
       "1015  983504\n",
       "1016  886153\n",
       "1017  541500\n",
       "\n",
       "[1018 rows x 1 columns]"
      ]
     },
     "execution_count": 315,
     "metadata": {},
     "output_type": "execute_result"
    }
   ],
   "source": [
    "app_id_df"
   ]
  },
  {
   "cell_type": "code",
   "execution_count": 318,
   "metadata": {},
   "outputs": [],
   "source": [
    "submission = [app_id_df, ypred_df]"
   ]
  },
  {
   "cell_type": "code",
   "execution_count": 319,
   "metadata": {},
   "outputs": [
    {
     "data": {
      "text/plain": [
       "[      app_id\n",
       " 0     144236\n",
       " 1     881323\n",
       " 2     765524\n",
       " 3     390533\n",
       " 4     817383\n",
       " ...      ...\n",
       " 1013  990872\n",
       " 1014  850376\n",
       " 1015  983504\n",
       " 1016  886153\n",
       " 1017  541500\n",
       " \n",
       " [1018 rows x 1 columns],\n",
       "      popularity\n",
       " 0          High\n",
       " 1          High\n",
       " 2          High\n",
       " 3           Low\n",
       " 4          High\n",
       " ...         ...\n",
       " 1013       High\n",
       " 1014       High\n",
       " 1015        Low\n",
       " 1016       High\n",
       " 1017        Low\n",
       " \n",
       " [1018 rows x 1 columns]]"
      ]
     },
     "execution_count": 319,
     "metadata": {},
     "output_type": "execute_result"
    }
   ],
   "source": [
    "submission"
   ]
  },
  {
   "cell_type": "code",
   "execution_count": 321,
   "metadata": {},
   "outputs": [],
   "source": [
    "submission_df = app_id_df.join(ypred_df)"
   ]
  },
  {
   "cell_type": "code",
   "execution_count": 322,
   "metadata": {},
   "outputs": [
    {
     "data": {
      "text/html": [
       "<div>\n",
       "<style scoped>\n",
       "    .dataframe tbody tr th:only-of-type {\n",
       "        vertical-align: middle;\n",
       "    }\n",
       "\n",
       "    .dataframe tbody tr th {\n",
       "        vertical-align: top;\n",
       "    }\n",
       "\n",
       "    .dataframe thead th {\n",
       "        text-align: right;\n",
       "    }\n",
       "</style>\n",
       "<table border=\"1\" class=\"dataframe\">\n",
       "  <thead>\n",
       "    <tr style=\"text-align: right;\">\n",
       "      <th></th>\n",
       "      <th>app_id</th>\n",
       "      <th>popularity</th>\n",
       "    </tr>\n",
       "  </thead>\n",
       "  <tbody>\n",
       "    <tr>\n",
       "      <th>0</th>\n",
       "      <td>144236</td>\n",
       "      <td>High</td>\n",
       "    </tr>\n",
       "    <tr>\n",
       "      <th>1</th>\n",
       "      <td>881323</td>\n",
       "      <td>High</td>\n",
       "    </tr>\n",
       "    <tr>\n",
       "      <th>2</th>\n",
       "      <td>765524</td>\n",
       "      <td>High</td>\n",
       "    </tr>\n",
       "    <tr>\n",
       "      <th>3</th>\n",
       "      <td>390533</td>\n",
       "      <td>Low</td>\n",
       "    </tr>\n",
       "    <tr>\n",
       "      <th>4</th>\n",
       "      <td>817383</td>\n",
       "      <td>High</td>\n",
       "    </tr>\n",
       "    <tr>\n",
       "      <th>...</th>\n",
       "      <td>...</td>\n",
       "      <td>...</td>\n",
       "    </tr>\n",
       "    <tr>\n",
       "      <th>1013</th>\n",
       "      <td>990872</td>\n",
       "      <td>High</td>\n",
       "    </tr>\n",
       "    <tr>\n",
       "      <th>1014</th>\n",
       "      <td>850376</td>\n",
       "      <td>High</td>\n",
       "    </tr>\n",
       "    <tr>\n",
       "      <th>1015</th>\n",
       "      <td>983504</td>\n",
       "      <td>Low</td>\n",
       "    </tr>\n",
       "    <tr>\n",
       "      <th>1016</th>\n",
       "      <td>886153</td>\n",
       "      <td>High</td>\n",
       "    </tr>\n",
       "    <tr>\n",
       "      <th>1017</th>\n",
       "      <td>541500</td>\n",
       "      <td>Low</td>\n",
       "    </tr>\n",
       "  </tbody>\n",
       "</table>\n",
       "<p>1018 rows × 2 columns</p>\n",
       "</div>"
      ],
      "text/plain": [
       "      app_id popularity\n",
       "0     144236       High\n",
       "1     881323       High\n",
       "2     765524       High\n",
       "3     390533        Low\n",
       "4     817383       High\n",
       "...      ...        ...\n",
       "1013  990872       High\n",
       "1014  850376       High\n",
       "1015  983504        Low\n",
       "1016  886153       High\n",
       "1017  541500        Low\n",
       "\n",
       "[1018 rows x 2 columns]"
      ]
     },
     "execution_count": 322,
     "metadata": {},
     "output_type": "execute_result"
    }
   ],
   "source": [
    "submission_df"
   ]
  },
  {
   "cell_type": "code",
   "execution_count": 323,
   "metadata": {
    "colab": {},
    "colab_type": "code",
    "id": "_trNCAAzL67H"
   },
   "outputs": [],
   "source": [
    "#Submission\n",
    "submission_df.to_csv('submissions.csv',index=False)"
   ]
  }
 ],
 "metadata": {
  "colab": {
   "collapsed_sections": [],
   "name": "Questions.ipynb",
   "provenance": []
  },
  "kernelspec": {
   "display_name": "Python 3",
   "language": "python",
   "name": "python3"
  },
  "language_info": {
   "codemirror_mode": {
    "name": "ipython",
    "version": 3
   },
   "file_extension": ".py",
   "mimetype": "text/x-python",
   "name": "python",
   "nbconvert_exporter": "python",
   "pygments_lexer": "ipython3",
   "version": "3.8.5"
  }
 },
 "nbformat": 4,
 "nbformat_minor": 4
}
